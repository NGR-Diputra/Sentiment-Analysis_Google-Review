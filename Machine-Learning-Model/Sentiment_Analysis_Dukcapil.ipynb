{
  "cells": [
    {
      "cell_type": "code",
      "execution_count": 2,
      "metadata": {
        "id": "m2RcDGoZiAEk"
      },
      "outputs": [],
      "source": [
        "import pandas as pd\n",
        "import numpy as np\n",
        "import matplotlib.pyplot as plt\n",
        "from flask import Flask, render_template, request"
      ]
    },
    {
      "cell_type": "markdown",
      "metadata": {},
      "source": [
        "#### **== READ DATASET ==**"
      ]
    },
    {
      "cell_type": "code",
      "execution_count": 3,
      "metadata": {
        "id": "FTsZT8u4EIuV"
      },
      "outputs": [],
      "source": [
        "df = pd.read_excel(\"src/dataset.xlsx\")"
      ]
    },
    {
      "cell_type": "markdown",
      "metadata": {},
      "source": [
        "Sebelum lanjut ke tahap preprocessing, ada baiknya diketahui persebaran jumlah data yang ada. Persebaran rating tiap teks dapat dilihat pada program dibawah."
      ]
    },
    {
      "cell_type": "code",
      "execution_count": 6,
      "metadata": {},
      "outputs": [
        {
          "data": {
            "image/png": "[encoded data removed]",
            "text/plain": [
              "<Figure size 640x480 with 1 Axes>"
            ]
          },
          "metadata": {},
          "output_type": "display_data"
        }
      ],
      "source": [
        "ratings_distribution = df['review_rating'].value_counts().sort_index()\n",
        "\n",
        "# Plotting Jumlah Sentimen\n",
        "plt.bar(ratings_distribution.index, ratings_distribution.values, color = \"#D5255E\")\n",
        "plt.xlabel('Rating')\n",
        "plt.ylabel('Frequency')\n",
        "plt.title('Dataset Rating Distribution')\n",
        "plt.show()"
      ]
    },
    {
      "cell_type": "markdown",
      "metadata": {
        "id": "T7MSUoV3zD9_"
      },
      "source": [
        "#### **== PREPROCESSING TEXT ==**\n",
        "\n",
        "*Preprocessing Text* merupakan proses untuk merubah bentuk teks yang digunakan nantinya untuk memudahkan proses analisis sentimen. Dalam menganalisis sebuah sentiman dalam teks tentunya teks tersebut harus mengandung kata yang melambangkan nilai teks tersebut sehingga nantinya dapat dikategorikan kedalam sentimen positif atau negatif. *Preprocessing Text* terdiri dari beberapa tahapan yaitu. \n",
        "1. **Case Folding**\n",
        "2. **Normalisasi Teks**\n",
        "3. **Stopword Removal**\n",
        "4. **Stemming**"
      ]
    },
    {
      "cell_type": "code",
      "execution_count": 7,
      "metadata": {
        "id": "mIFf-NTDFR2A"
      },
      "outputs": [],
      "source": [
        "import string\n",
        "import re\n",
        "import json\n",
        "import nltk\n",
        "from nltk.corpus import stopwords\n",
        "from nltk.tokenize import word_tokenize\n",
        "from Sastrawi.Stemmer.StemmerFactory import StemmerFactory"
      ]
    },
    {
      "cell_type": "code",
      "execution_count": 8,
      "metadata": {
        "colab": {
          "base_uri": "https://localhost:8080/"
        },
        "id": "ecqgZiH5E3rO",
        "outputId": "d85ab6df-9b24-4f59-ddd8-35996106b3cc"
      },
      "outputs": [
        {
          "name": "stderr",
          "output_type": "stream",
          "text": [
            "[nltk_data] Downloading package punkt to\n",
            "[nltk_data]     C:\\Users\\Diputra_W\\AppData\\Roaming\\nltk_data...\n",
            "[nltk_data]   Package punkt is already up-to-date!\n"
          ]
        },
        {
          "data": {
            "text/plain": [
              "True"
            ]
          },
          "execution_count": 8,
          "metadata": {},
          "output_type": "execute_result"
        }
      ],
      "source": [
        "nltk.download('punkt')"
      ]
    },
    {
      "cell_type": "markdown",
      "metadata": {},
      "source": [
        "##### **1. CASE FOLDING**\n",
        "Case Folding merupakan proses untuk membersihkan noise pada teks. Pembersihan noise disini berarti penyeragaman penulisan teks yang diberikan. Beberapa bentuk case folding yaitu.\n",
        "1. **Lower Case**, merubah menjadi huruf *non-kapital*. Sebetulnya bisa menggunakan *upper-case* untuk merubah ke bentuk huruf kapital namun lebih sering dilakukan *lower-case*.\n",
        "2. **Removing Numbers**, menghilangkan angka dan simbol.\n",
        "3. **Remove Punctuation**, menghilangkan tanda baca (\".\", \",\", \":\", dsb)\n",
        "4. **Remove Whitespace**, menghilangkan spasi tambahan pada pinggir kalimat.\n",
        "5. **Remove Emojis**, menghilangkan emoji pada teks."
      ]
    },
    {
      "cell_type": "code",
      "execution_count": 10,
      "metadata": {
        "id": "JBcq5ws4z3_4"
      },
      "outputs": [],
      "source": [
        "def case_folding(sentence):\n",
        "    emoji_pattern = re.compile(\"[\"\n",
        "        u\"\\U0001F600-\\U0001F64F\"  # Emojis in the first range\n",
        "        u\"\\U0001F300-\\U0001F5FF\"  # Emojis in the second range\n",
        "        u\"\\U0001F680-\\U0001F6FF\"  # Emojis in the third range\n",
        "        u\"\\U0001F700-\\U0001F77F\"  # Emojis in the fourth range\n",
        "        u\"\\U0001F780-\\U0001F7FF\"  # Emojis in the fifth range\n",
        "        u\"\\U0001F800-\\U0001F8FF\"  # Emojis in the sixth range\n",
        "        u\"\\U0001F900-\\U0001F9FF\"  # Emojis in the seventh range\n",
        "        u\"\\U0001FA00-\\U0001FA6F\"  # Emojis in the eighth range\n",
        "        u\"\\U0001FA70-\\U0001FAFF\"  # Emojis in the ninth range\n",
        "        u\"\\U0001F004-\\U0001F0CF\"  # Emojis in the tenth range\n",
        "        \"]+\", flags=re.UNICODE)\n",
        "\n",
        "    sentence = emoji_pattern.sub(r'', sentence)\n",
        "    sentence = sentence.translate(str.maketrans(\"\",\"\", string.punctuation)).lower()\n",
        "    sentence = re.sub(r\"\\d+\", \"\", sentence)\n",
        "    sentence = sentence.replace(\"/\", \" \")\n",
        "    return sentence\n"
      ]
    },
    {
      "cell_type": "markdown",
      "metadata": {},
      "source": [
        "##### **2. NORMALIZE TEXT**\n",
        "*Normalize Text* atau normalisasi merupakan proses untuk merubah atau memperbaiki setiap kesalahan penulisan/ejaan pada teks. Normalisasi teks biasanya dilakukan dengan bantuan kamus khusus yang terdiri dari ejaan kata yang salah dengan bentuk ejaan yang benar. Kemudian kamus ini diaplikasikan pada teks yang diuji. Contoh sebagai berikut : \n",
        "- yg = yang\n",
        "- jd, jdi = jadi\n",
        "- gak, ga, tdk, ngga, nggak, nggk = tidak\n",
        "- dll"
      ]
    },
    {
      "cell_type": "code",
      "execution_count": 11,
      "metadata": {
        "id": "4k0eRmAo0NgI"
      },
      "outputs": [],
      "source": [
        "def load_abbreviation_file(file_path):\n",
        "    try:\n",
        "        with open(file_path, \"r\") as file:\n",
        "            abbreviations = json.load(file)\n",
        "        return abbreviations\n",
        "    except FileExistsError:\n",
        "        print(f\"File not found {file_path}\")\n",
        "        return {}\n",
        "\n",
        "#Reading the abbreviation file path for preprocessing\n",
        "file_path = \"abbreviation_file.txt\"\n",
        "abbreviation_file = load_abbreviation_file(file_path)\n",
        "\n",
        "def normalize_text(sentence):\n",
        "    words = sentence.lower().split()\n",
        "    words_normalized = []\n",
        "    for word in words:\n",
        "        for full_form, abbreviations in abbreviation_file.items():\n",
        "            if word.lower() in abbreviations:\n",
        "                words_normalized.append(full_form)\n",
        "                break\n",
        "        else:\n",
        "            words_normalized.append(word)\n",
        "    return \" \".join(words_normalized)"
      ]
    },
    {
      "cell_type": "markdown",
      "metadata": {},
      "source": [
        "##### **3. STOPWORD REMOVAL**\n",
        "*Stopword* merupakan list kata tidak penting yang terdapat dalam teks namun tidak melambangkan isi atau nilai dari teks tersebut. Contoh bentuk *stopword* yaitu kata depan, kata hubung, dan kata ganti orang. \n",
        "- Kata depan : di, ke, dari.\n",
        "- Kata hubung : dan, atau, karena.\n",
        "- Kata ganti orang : mereka, dia, kamu.\n",
        "\n",
        "Terdapat metode lain dalam proses ini yang dapat dilakukan yaitu __*Wordlist*__ namun metode ini kurang efisien karena metode *wordlist* merupakan kebalikan dari *stopword removal* yang akan membiarkan kata yang dinilai penting dan melambangkan isi teks. Kebanyakan kata dalam *wordlist* berupa kata teknis, ilmiah, dan baku sehingga jika dibuatkan kamus tentu akan memakan banyak waktu."
      ]
    },
    {
      "cell_type": "code",
      "execution_count": 12,
      "metadata": {
        "id": "U2FP60DW3nHA"
      },
      "outputs": [],
      "source": [
        "def stopwords_removal(sentence):\n",
        "    tokens = word_tokenize(sentence)\n",
        "    liststopwords =  set(stopwords.words('indonesian'))\n",
        "\n",
        "    custom_stopwords_file = \"more_stopwords.txt\"\n",
        "\n",
        "    custom_stopwords = set()\n",
        "    with open(custom_stopwords_file, \"r\") as file:\n",
        "        for line in file:\n",
        "            custom_stopwords.add(line.strip())\n",
        "\n",
        "    combined_stopwords = liststopwords.union(custom_stopwords)\n",
        "\n",
        "    with open(custom_stopwords_file, \"w\") as file:\n",
        "        for word in combined_stopwords:\n",
        "            file.write(word + \"\\n\")\n",
        "\n",
        "def remove_custom_stopwords(sentence, custom_stopwords_file):\n",
        "    custom_stopwords = set()\n",
        "    with open(custom_stopwords_file, 'r') as file:\n",
        "        for line in file:\n",
        "            custom_stopwords.add(line.strip())\n",
        "\n",
        "    words = word_tokenize(sentence)\n",
        "\n",
        "    filtered_words = [word for word in words if word.lower() not in custom_stopwords]\n",
        "\n",
        "    cleaned_text = ' '.join(filtered_words)\n",
        "\n",
        "    return cleaned_text"
      ]
    },
    {
      "cell_type": "markdown",
      "metadata": {},
      "source": [
        "##### **4. STEMMING TEXT**\n",
        "Stemming merupakan proses untuk mengubah setiap kata yang ada dalam kelimat ke bentuk kata dasarnya. Jika dalam kalimat sebuah kata sudah dalam bentuk kata dasar makan kata tersebut akan diabaikan. Contoh *Stemming* sebagai berikut.\n",
        "- berjalan, menjalankan = jalan\n",
        "\n",
        "Stemming merupakan proses mengubah kata pada kalimat menjadi bentuk kata dasarnya"
      ]
    },
    {
      "cell_type": "code",
      "execution_count": 13,
      "metadata": {
        "id": "DpBLqDQiC8w-"
      },
      "outputs": [],
      "source": [
        "def stemming_text(sentence):\n",
        "    factory = StemmerFactory()\n",
        "    Stemmer = factory.create_stemmer()\n",
        "\n",
        "    sentence = Stemmer.stem(sentence)\n",
        "    return sentence"
      ]
    },
    {
      "cell_type": "code",
      "execution_count": 14,
      "metadata": {
        "colab": {
          "base_uri": "https://localhost:8080/",
          "height": 254
        },
        "id": "yaZmGj_zDjEP",
        "outputId": "a8c12036-5e93-4b5c-98ec-889bc176305d"
      },
      "outputs": [
        {
          "data": {
            "text/html": [
              "<div>\n",
              "<style scoped>\n",
              "    .dataframe tbody tr th:only-of-type {\n",
              "        vertical-align: middle;\n",
              "    }\n",
              "\n",
              "    .dataframe tbody tr th {\n",
              "        vertical-align: top;\n",
              "    }\n",
              "\n",
              "    .dataframe thead th {\n",
              "        text-align: right;\n",
              "    }\n",
              "</style>\n",
              "<table border=\"1\" class=\"dataframe\">\n",
              "  <thead>\n",
              "    <tr style=\"text-align: right;\">\n",
              "      <th></th>\n",
              "      <th>author_title</th>\n",
              "      <th>review_rating</th>\n",
              "      <th>review_text</th>\n",
              "      <th>case_folding</th>\n",
              "      <th>normalized_text</th>\n",
              "      <th>stopword_removed</th>\n",
              "      <th>stemmed_text</th>\n",
              "    </tr>\n",
              "  </thead>\n",
              "  <tbody>\n",
              "    <tr>\n",
              "      <th>0</th>\n",
              "      <td>Felix zhang</td>\n",
              "      <td>5</td>\n",
              "      <td>Urus KTP hilang cukup surat keterangan hilang dari kepolisian dan fotokopi KK\\nAntrian sekitar 1 jam, proses cetak hanya sekitar 2 menit</td>\n",
              "      <td>urus ktp hilang cukup surat keterangan hilang dari kepolisian dan fotokopi kk\\nantrian sekitar  jam proses cetak hanya sekitar  menit</td>\n",
              "      <td>urus kartu tanda penduduk hilang cukup surat keterangan hilang dari kepolisian dan fotokopi kartu keluarga antrian sekitar jam proses cetak hanya sekitar menit</td>\n",
              "      <td>urus kartu tanda penduduk hilang surat keterangan hilang kepolisian fotokopi kartu keluarga antrian jam proses cetak menit</td>\n",
              "      <td>urus kartu tanda duduk hilang surat terang hilang polisi fotokopi kartu keluarga antri jam proses cetak menit</td>\n",
              "    </tr>\n",
              "  </tbody>\n",
              "</table>\n",
              "</div>"
            ],
            "text/plain": [
              "  author_title  review_rating   \n",
              "0  Felix zhang              5  \\\n",
              "\n",
              "                                                                                                                                review_text   \n",
              "0  Urus KTP hilang cukup surat keterangan hilang dari kepolisian dan fotokopi KK\\nAntrian sekitar 1 jam, proses cetak hanya sekitar 2 menit  \\\n",
              "\n",
              "                                                                                                                            case_folding   \n",
              "0  urus ktp hilang cukup surat keterangan hilang dari kepolisian dan fotokopi kk\\nantrian sekitar  jam proses cetak hanya sekitar  menit  \\\n",
              "\n",
              "                                                                                                                                                   normalized_text   \n",
              "0  urus kartu tanda penduduk hilang cukup surat keterangan hilang dari kepolisian dan fotokopi kartu keluarga antrian sekitar jam proses cetak hanya sekitar menit  \\\n",
              "\n",
              "                                                                                                             stopword_removed   \n",
              "0  urus kartu tanda penduduk hilang surat keterangan hilang kepolisian fotokopi kartu keluarga antrian jam proses cetak menit  \\\n",
              "\n",
              "                                                                                                    stemmed_text  \n",
              "0  urus kartu tanda duduk hilang surat terang hilang polisi fotokopi kartu keluarga antri jam proses cetak menit  "
            ]
          },
          "execution_count": 14,
          "metadata": {},
          "output_type": "execute_result"
        }
      ],
      "source": [
        "df['case_folding'] = df['review_text'].apply(case_folding)\n",
        "df['normalized_text'] = df['case_folding'].apply(normalize_text)\n",
        "df['stopword_removed'] = df['normalized_text'].apply(lambda x: remove_custom_stopwords(x, 'more_stopwords.txt'))\n",
        "df['stemmed_text'] = df['stopword_removed'].apply(stemming_text)\n",
        "pd.set_option('display.max_colwidth', None)\n",
        "df.head(1)"
      ]
    },
    {
      "cell_type": "code",
      "execution_count": 15,
      "metadata": {
        "colab": {
          "base_uri": "https://localhost:8080/",
          "height": 275
        },
        "id": "hRP1EfCoJZ_I",
        "outputId": "6fb4f6c5-5eb1-4657-fa8b-f3553f04b711"
      },
      "outputs": [
        {
          "data": {
            "text/html": [
              "<div>\n",
              "<style scoped>\n",
              "    .dataframe tbody tr th:only-of-type {\n",
              "        vertical-align: middle;\n",
              "    }\n",
              "\n",
              "    .dataframe tbody tr th {\n",
              "        vertical-align: top;\n",
              "    }\n",
              "\n",
              "    .dataframe thead th {\n",
              "        text-align: right;\n",
              "    }\n",
              "</style>\n",
              "<table border=\"1\" class=\"dataframe\">\n",
              "  <thead>\n",
              "    <tr style=\"text-align: right;\">\n",
              "      <th></th>\n",
              "      <th>stemmed_text</th>\n",
              "      <th>review_rating</th>\n",
              "    </tr>\n",
              "  </thead>\n",
              "  <tbody>\n",
              "    <tr>\n",
              "      <th>0</th>\n",
              "      <td>urus kartu tanda duduk hilang surat terang hilang polisi fotokopi kartu keluarga antri jam proses cetak menit</td>\n",
              "      <td>5</td>\n",
              "    </tr>\n",
              "    <tr>\n",
              "      <th>1</th>\n",
              "      <td>urus akta nikah online taring denpasar proses cetak arah kantor informasi terima email cetak akta paket kartu tanda duduk kartu keluarga terbit admin wa taring denpasar respon tanggap cepat respect admin wa nya suasana dukcapil loket layan cepat ramah tunggu nyaman antri ramai paham alur astungkara mudah cepat</td>\n",
              "      <td>5</td>\n",
              "    </tr>\n",
              "    <tr>\n",
              "      <th>2</th>\n",
              "      <td>layan mana buat suratsurat mudah sistem online bulakbalik penuh dokumen langsung cetak mandiri bawa ojek online tugas ramah bimbing sulit moga layan tahan tingkat terimakasih</td>\n",
              "      <td>5</td>\n",
              "    </tr>\n",
              "    <tr>\n",
              "      <th>3</th>\n",
              "      <td>cocok gaji staf staf dukcapil kerja nya buru buru pulang jam salah salah cetak kartu tanda duduk kartu keluarga status agama kartu tanda duduk ganti buru buru pulang kerja beres</td>\n",
              "      <td>1</td>\n",
              "    </tr>\n",
              "    <tr>\n",
              "      <th>4</th>\n",
              "      <td>proses cepat online riweh bingung tinggal wa admin nya layan ramah ya beda sangtta yaa sih ter the best pokok</td>\n",
              "      <td>5</td>\n",
              "    </tr>\n",
              "  </tbody>\n",
              "</table>\n",
              "</div>"
            ],
            "text/plain": [
              "                                                                                                                                                                                                                                                                                                              stemmed_text   \n",
              "0                                                                                                                                                                                                            urus kartu tanda duduk hilang surat terang hilang polisi fotokopi kartu keluarga antri jam proses cetak menit  \\\n",
              "1  urus akta nikah online taring denpasar proses cetak arah kantor informasi terima email cetak akta paket kartu tanda duduk kartu keluarga terbit admin wa taring denpasar respon tanggap cepat respect admin wa nya suasana dukcapil loket layan cepat ramah tunggu nyaman antri ramai paham alur astungkara mudah cepat   \n",
              "2                                                                                                                                           layan mana buat suratsurat mudah sistem online bulakbalik penuh dokumen langsung cetak mandiri bawa ojek online tugas ramah bimbing sulit moga layan tahan tingkat terimakasih   \n",
              "3                                                                                                                                        cocok gaji staf staf dukcapil kerja nya buru buru pulang jam salah salah cetak kartu tanda duduk kartu keluarga status agama kartu tanda duduk ganti buru buru pulang kerja beres   \n",
              "4                                                                                                                                                                                                            proses cepat online riweh bingung tinggal wa admin nya layan ramah ya beda sangtta yaa sih ter the best pokok   \n",
              "\n",
              "   review_rating  \n",
              "0              5  \n",
              "1              5  \n",
              "2              5  \n",
              "3              1  \n",
              "4              5  "
            ]
          },
          "execution_count": 15,
          "metadata": {},
          "output_type": "execute_result"
        }
      ],
      "source": [
        "dfnew = df[[\"stemmed_text\", \"review_rating\"]]\n",
        "dfnew.head()"
      ]
    },
    {
      "cell_type": "code",
      "execution_count": 16,
      "metadata": {
        "id": "lfytYGd8KISV"
      },
      "outputs": [],
      "source": [
        "import tensorflow\n",
        "from sklearn.preprocessing import LabelEncoder\n",
        "from sklearn.model_selection import train_test_split\n",
        "from tensorflow.keras.preprocessing.text import Tokenizer\n",
        "from tensorflow.keras.models import Sequential\n",
        "from tensorflow.keras.layers import Embedding, Flatten, Dense\n",
        "from tensorflow.keras.preprocessing.sequence import pad_sequences\n",
        "from keras.utils import to_categorical\n",
        "from keras import models"
      ]
    },
    {
      "cell_type": "markdown",
      "metadata": {},
      "source": [
        "#### **== PELABELAN SENTIMEN ==**\n",
        "Dalam melakukan analisis sentimen setiap rating nantinya akan dibedakan menjadi beberapa kategori. Persebaran kategori tersebut berupa.\n",
        "- Rating 1 & 2 bernilai negatif\n",
        "- Rating 3 Bernilai netral\n",
        "- Rating 4 & 5 bernilai positif"
      ]
    },
    {
      "cell_type": "code",
      "execution_count": 17,
      "metadata": {
        "colab": {
          "base_uri": "https://localhost:8080/",
          "height": 310
        },
        "id": "AAJCM4KoR8kZ",
        "outputId": "d5761055-a2c9-4dc9-f931-1dc68b6c04a6"
      },
      "outputs": [
        {
          "data": {
            "text/html": [
              "<div>\n",
              "<style scoped>\n",
              "    .dataframe tbody tr th:only-of-type {\n",
              "        vertical-align: middle;\n",
              "    }\n",
              "\n",
              "    .dataframe tbody tr th {\n",
              "        vertical-align: top;\n",
              "    }\n",
              "\n",
              "    .dataframe thead th {\n",
              "        text-align: right;\n",
              "    }\n",
              "</style>\n",
              "<table border=\"1\" class=\"dataframe\">\n",
              "  <thead>\n",
              "    <tr style=\"text-align: right;\">\n",
              "      <th></th>\n",
              "      <th>stemmed_text</th>\n",
              "      <th>sentiment_category</th>\n",
              "      <th>encoded_label</th>\n",
              "    </tr>\n",
              "  </thead>\n",
              "  <tbody>\n",
              "    <tr>\n",
              "      <th>0</th>\n",
              "      <td>urus kartu tanda duduk hilang surat terang hilang polisi fotokopi kartu keluarga antri jam proses cetak menit</td>\n",
              "      <td>Positive</td>\n",
              "      <td>2</td>\n",
              "    </tr>\n",
              "    <tr>\n",
              "      <th>1</th>\n",
              "      <td>urus akta nikah online taring denpasar proses cetak arah kantor informasi terima email cetak akta paket kartu tanda duduk kartu keluarga terbit admin wa taring denpasar respon tanggap cepat respect admin wa nya suasana dukcapil loket layan cepat ramah tunggu nyaman antri ramai paham alur astungkara mudah cepat</td>\n",
              "      <td>Positive</td>\n",
              "      <td>2</td>\n",
              "    </tr>\n",
              "    <tr>\n",
              "      <th>2</th>\n",
              "      <td>layan mana buat suratsurat mudah sistem online bulakbalik penuh dokumen langsung cetak mandiri bawa ojek online tugas ramah bimbing sulit moga layan tahan tingkat terimakasih</td>\n",
              "      <td>Positive</td>\n",
              "      <td>2</td>\n",
              "    </tr>\n",
              "    <tr>\n",
              "      <th>3</th>\n",
              "      <td>cocok gaji staf staf dukcapil kerja nya buru buru pulang jam salah salah cetak kartu tanda duduk kartu keluarga status agama kartu tanda duduk ganti buru buru pulang kerja beres</td>\n",
              "      <td>Negative</td>\n",
              "      <td>0</td>\n",
              "    </tr>\n",
              "    <tr>\n",
              "      <th>4</th>\n",
              "      <td>proses cepat online riweh bingung tinggal wa admin nya layan ramah ya beda sangtta yaa sih ter the best pokok</td>\n",
              "      <td>Positive</td>\n",
              "      <td>2</td>\n",
              "    </tr>\n",
              "  </tbody>\n",
              "</table>\n",
              "</div>"
            ],
            "text/plain": [
              "                                                                                                                                                                                                                                                                                                              stemmed_text   \n",
              "0                                                                                                                                                                                                            urus kartu tanda duduk hilang surat terang hilang polisi fotokopi kartu keluarga antri jam proses cetak menit  \\\n",
              "1  urus akta nikah online taring denpasar proses cetak arah kantor informasi terima email cetak akta paket kartu tanda duduk kartu keluarga terbit admin wa taring denpasar respon tanggap cepat respect admin wa nya suasana dukcapil loket layan cepat ramah tunggu nyaman antri ramai paham alur astungkara mudah cepat   \n",
              "2                                                                                                                                           layan mana buat suratsurat mudah sistem online bulakbalik penuh dokumen langsung cetak mandiri bawa ojek online tugas ramah bimbing sulit moga layan tahan tingkat terimakasih   \n",
              "3                                                                                                                                        cocok gaji staf staf dukcapil kerja nya buru buru pulang jam salah salah cetak kartu tanda duduk kartu keluarga status agama kartu tanda duduk ganti buru buru pulang kerja beres   \n",
              "4                                                                                                                                                                                                            proses cepat online riweh bingung tinggal wa admin nya layan ramah ya beda sangtta yaa sih ter the best pokok   \n",
              "\n",
              "  sentiment_category  encoded_label  \n",
              "0           Positive              2  \n",
              "1           Positive              2  \n",
              "2           Positive              2  \n",
              "3           Negative              0  \n",
              "4           Positive              2  "
            ]
          },
          "execution_count": 17,
          "metadata": {},
          "output_type": "execute_result"
        }
      ],
      "source": [
        "label_mapping = {1: 'Negative', 2: 'Negative', 3: 'Neutral', 4: 'Positive', 5: 'Positive'}\n",
        "\n",
        "df_encoded = pd.DataFrame()\n",
        "df_encoded['stemmed_text'] = dfnew['stemmed_text']\n",
        "df_encoded['sentiment_category'] = dfnew['review_rating'].map(label_mapping)\n",
        "\n",
        "df_encoded['sentiment_category'].fillna('Neutral', inplace=True)\n",
        "\n",
        "label_encoder = LabelEncoder()\n",
        "df_encoded['encoded_label'] = label_encoder.fit_transform(df_encoded['sentiment_category'])\n",
        "\n",
        "df_encoded.head()"
      ]
    },
    {
      "cell_type": "code",
      "execution_count": 21,
      "metadata": {},
      "outputs": [
        {
          "data": {
            "image/png": "[encoded data removed]",
            "text/plain": [
              "<Figure size 640x480 with 1 Axes>"
            ]
          },
          "metadata": {},
          "output_type": "display_data"
        }
      ],
      "source": [
        "sentiment_order = ['Negative', 'Neutral', 'Positive']\n",
        "sentiment_colors = {'Negative': '#ff684c', 'Neutral': '#ffda66', 'Positive': '#8ace7e'}\n",
        "\n",
        "sentiment_distribution = df_encoded['sentiment_category'].value_counts().loc[sentiment_order]\n",
        "\n",
        "sentiment_distribution.plot(kind='bar', color=[sentiment_colors[sentiment] for sentiment in sentiment_distribution.index])\n",
        "plt.xlabel('Category')\n",
        "plt.ylabel('Frequency')\n",
        "plt.title('Persebaran Kategori Sentimen')\n",
        "plt.show()\n"
      ]
    },
    {
      "cell_type": "markdown",
      "metadata": {},
      "source": [
        "#### **== MODEL ANALISIS SENTIMEN ==**\n",
        "\n",
        "Analisis sentimen dilakukan untuk membangun sebuah model yang mampu mengklasifikasikan sentimen teks apakah teks tersebut termasuk komentar positif atau negatif. Adapun beberapa tahap lanjut dalam pembentukan model tersebut yaitu.\n",
        "- **Split Train & test Data**"
      ]
    },
    {
      "cell_type": "code",
      "execution_count": 15,
      "metadata": {
        "id": "ueAhziHNci4_"
      },
      "outputs": [],
      "source": [
        "X_train, X_test, y_train, y_test = train_test_split(df_encoded['stemmed_text'], df_encoded['encoded_label'], test_size=0.2, random_state=42)"
      ]
    },
    {
      "cell_type": "markdown",
      "metadata": {},
      "source": [
        "- **Tokenize & Padding**"
      ]
    },
    {
      "cell_type": "code",
      "execution_count": 16,
      "metadata": {
        "id": "Alql-mGZgUQT"
      },
      "outputs": [],
      "source": [
        "max_words = 10000\n",
        "tokenizer = Tokenizer(num_words=max_words, oov_token='<OOV>')\n",
        "tokenizer.fit_on_texts(X_train)\n",
        "\n",
        "X_train_seq = tokenizer.texts_to_sequences(X_train)\n",
        "X_test_seq = tokenizer.texts_to_sequences(X_test)\n",
        "\n",
        "max_length = 100  # Adjust based on your dataset\n",
        "X_train_padded = pad_sequences(X_train_seq, maxlen=max_length, padding='post')\n",
        "X_test_padded = pad_sequences(X_test_seq, maxlen=max_length, padding='post')"
      ]
    },
    {
      "cell_type": "code",
      "execution_count": 17,
      "metadata": {
        "colab": {
          "base_uri": "https://localhost:8080/",
          "height": 1000
        },
        "id": "Ld5i06DYr9xF",
        "outputId": "f7bd9757-69df-48f8-b17f-8338470bd517"
      },
      "outputs": [
        {
          "data": {
            "text/html": [
              "<div>\n",
              "<style scoped>\n",
              "    .dataframe tbody tr th:only-of-type {\n",
              "        vertical-align: middle;\n",
              "    }\n",
              "\n",
              "    .dataframe tbody tr th {\n",
              "        vertical-align: top;\n",
              "    }\n",
              "\n",
              "    .dataframe thead th {\n",
              "        text-align: right;\n",
              "    }\n",
              "</style>\n",
              "<table border=\"1\" class=\"dataframe\">\n",
              "  <thead>\n",
              "    <tr style=\"text-align: right;\">\n",
              "      <th></th>\n",
              "      <th>stemmed_text</th>\n",
              "      <th>sentiment_category</th>\n",
              "      <th>encoded_label</th>\n",
              "    </tr>\n",
              "  </thead>\n",
              "  <tbody>\n",
              "    <tr>\n",
              "      <th>0</th>\n",
              "      <td>urus kartu tanda duduk hilang surat terang hilang polisi fotokopi kartu keluarga antri jam proses cetak menit</td>\n",
              "      <td>Positive</td>\n",
              "      <td>0.0</td>\n",
              "    </tr>\n",
              "    <tr>\n",
              "      <th>1</th>\n",
              "      <td>urus akta nikah online taring proses cetak arah kantor informasi terima email cetak akta paket kartu tanda duduk kartu keluarga terbit admin taring respon tanggap cepat respect admin suasana dukcapil loket layan cepat ramah tunggu nyaman antri ramai paham alur mudah cepat</td>\n",
              "      <td>Positive</td>\n",
              "      <td>0.0</td>\n",
              "    </tr>\n",
              "    <tr>\n",
              "      <th>2</th>\n",
              "      <td>layan mana buat suratsurat mudah sistem online bulakbalik penuh dokumen langsung cetak mandiri bawa ojek online tugas ramah bimbing sulit moga layan tahan tingkat terimakasih</td>\n",
              "      <td>Positive</td>\n",
              "      <td>0.0</td>\n",
              "    </tr>\n",
              "    <tr>\n",
              "      <th>3</th>\n",
              "      <td>gaji staf staf dukcapil kerja buru buru pulang jam salah salah cetak kartu tanda duduk kartu keluarga status agama kartu tanda duduk ganti buru buru pulang kerja beres</td>\n",
              "      <td>Negative</td>\n",
              "      <td>1.0</td>\n",
              "    </tr>\n",
              "    <tr>\n",
              "      <th>4</th>\n",
              "      <td>proses cepat online riweh bingung tinggal admin layan ramah ya beda sangtta yaa sih ter the best pokok</td>\n",
              "      <td>Positive</td>\n",
              "      <td>0.0</td>\n",
              "    </tr>\n",
              "  </tbody>\n",
              "</table>\n",
              "</div>"
            ],
            "text/plain": [
              "                                                                                                                                                                                                                                                                       stemmed_text   \n",
              "0                                                                                                                                                                     urus kartu tanda duduk hilang surat terang hilang polisi fotokopi kartu keluarga antri jam proses cetak menit  \\\n",
              "1  urus akta nikah online taring proses cetak arah kantor informasi terima email cetak akta paket kartu tanda duduk kartu keluarga terbit admin taring respon tanggap cepat respect admin suasana dukcapil loket layan cepat ramah tunggu nyaman antri ramai paham alur mudah cepat   \n",
              "2                                                                                                    layan mana buat suratsurat mudah sistem online bulakbalik penuh dokumen langsung cetak mandiri bawa ojek online tugas ramah bimbing sulit moga layan tahan tingkat terimakasih   \n",
              "3                                                                                                           gaji staf staf dukcapil kerja buru buru pulang jam salah salah cetak kartu tanda duduk kartu keluarga status agama kartu tanda duduk ganti buru buru pulang kerja beres   \n",
              "4                                                                                                                                                                            proses cepat online riweh bingung tinggal admin layan ramah ya beda sangtta yaa sih ter the best pokok   \n",
              "\n",
              "  sentiment_category  encoded_label  \n",
              "0           Positive            0.0  \n",
              "1           Positive            0.0  \n",
              "2           Positive            0.0  \n",
              "3           Negative            1.0  \n",
              "4           Positive            0.0  "
            ]
          },
          "execution_count": 17,
          "metadata": {},
          "output_type": "execute_result"
        }
      ],
      "source": [
        "# Assuming you have a DataFrame df_encoded with 'text' and 'encoded_label' columns\n",
        "# One-hot encode the labels\n",
        "df_encoded['encoded_label'] = to_categorical(df_encoded['encoded_label'])\n",
        "df_encoded.head()"
      ]
    },
    {
      "cell_type": "markdown",
      "metadata": {},
      "source": [
        "- **Call & Train The Model**"
      ]
    },
    {
      "cell_type": "code",
      "execution_count": 18,
      "metadata": {
        "colab": {
          "base_uri": "https://localhost:8080/"
        },
        "id": "NmNbXPJbsC3A",
        "outputId": "a62c673e-9c3b-49d8-804b-61aa226eb220"
      },
      "outputs": [
        {
          "name": "stdout",
          "output_type": "stream",
          "text": [
            "Epoch 1/15\n",
            "21/21 [==============================] - 2s 41ms/step - loss: 0.6295 - accuracy: 0.7581 - val_loss: 0.5369 - val_accuracy: 0.7607\n",
            "Epoch 2/15\n",
            "21/21 [==============================] - 1s 26ms/step - loss: 0.4792 - accuracy: 0.8274 - val_loss: 0.4630 - val_accuracy: 0.8589\n",
            "Epoch 3/15\n",
            "21/21 [==============================] - 1s 26ms/step - loss: 0.3371 - accuracy: 0.9060 - val_loss: 0.4021 - val_accuracy: 0.8650\n",
            "Epoch 4/15\n",
            "21/21 [==============================] - 1s 26ms/step - loss: 0.2149 - accuracy: 0.9291 - val_loss: 0.3620 - val_accuracy: 0.8773\n",
            "Epoch 5/15\n",
            "21/21 [==============================] - 1s 25ms/step - loss: 0.1419 - accuracy: 0.9615 - val_loss: 0.3473 - val_accuracy: 0.8834\n",
            "Epoch 6/15\n",
            "21/21 [==============================] - 1s 32ms/step - loss: 0.1016 - accuracy: 0.9692 - val_loss: 0.3364 - val_accuracy: 0.8896\n",
            "Epoch 7/15\n",
            "21/21 [==============================] - 1s 29ms/step - loss: 0.0776 - accuracy: 0.9769 - val_loss: 0.3339 - val_accuracy: 0.8834\n",
            "Epoch 8/15\n",
            "21/21 [==============================] - 1s 25ms/step - loss: 0.0598 - accuracy: 0.9861 - val_loss: 0.3359 - val_accuracy: 0.8834\n",
            "Epoch 9/15\n",
            "21/21 [==============================] - 1s 27ms/step - loss: 0.0461 - accuracy: 0.9861 - val_loss: 0.3416 - val_accuracy: 0.8896\n",
            "Epoch 10/15\n",
            "21/21 [==============================] - 1s 27ms/step - loss: 0.0379 - accuracy: 0.9892 - val_loss: 0.3452 - val_accuracy: 0.8896\n",
            "Epoch 11/15\n",
            "21/21 [==============================] - 1s 28ms/step - loss: 0.0312 - accuracy: 0.9908 - val_loss: 0.3500 - val_accuracy: 0.8896\n",
            "Epoch 12/15\n",
            "21/21 [==============================] - 1s 25ms/step - loss: 0.0264 - accuracy: 0.9969 - val_loss: 0.3667 - val_accuracy: 0.8712\n",
            "Epoch 13/15\n",
            "21/21 [==============================] - 1s 25ms/step - loss: 0.0250 - accuracy: 0.9923 - val_loss: 0.3779 - val_accuracy: 0.8712\n",
            "Epoch 14/15\n",
            "21/21 [==============================] - 1s 27ms/step - loss: 0.0203 - accuracy: 0.9969 - val_loss: 0.3740 - val_accuracy: 0.8528\n",
            "Epoch 15/15\n",
            "21/21 [==============================] - 1s 25ms/step - loss: 0.0181 - accuracy: 0.9969 - val_loss: 0.3885 - val_accuracy: 0.8589\n"
          ]
        },
        {
          "data": {
            "text/plain": [
              "<keras.callbacks.History at 0x1a0d5989110>"
            ]
          },
          "execution_count": 18,
          "metadata": {},
          "output_type": "execute_result"
        }
      ],
      "source": [
        "# Build a simple neural network\n",
        "model = Sequential()\n",
        "model.add(Embedding(input_dim=max_words, output_dim=128, input_length=max_length))\n",
        "model.add(Flatten())\n",
        "model.add(Dense(units=64, activation='relu'))\n",
        "model.add(Dense(units=3, activation='softmax'))  # 3 output units for three categories\n",
        "\n",
        "# Compile the model\n",
        "model.compile(optimizer='adam', loss='categorical_crossentropy', metrics=['accuracy'])\n",
        "\n",
        "# Train the model\n",
        "model.fit(X_train_padded, to_categorical(y_train), epochs=15, validation_data=(X_test_padded, to_categorical(y_test)))\n"
      ]
    },
    {
      "cell_type": "markdown",
      "metadata": {},
      "source": [
        "- **Save The Model**"
      ]
    },
    {
      "cell_type": "code",
      "execution_count": 19,
      "metadata": {
        "colab": {
          "base_uri": "https://localhost:8080/"
        },
        "id": "yKN3WhEB5r-_",
        "outputId": "b686d71f-efac-4aa3-d4d1-2c5dda66d7f9"
      },
      "outputs": [],
      "source": [
        "#Save the model and tokenizer\n",
        "model.save('sentiment_model.h5')\n",
        "tokenizer_config = tokenizer.get_config()\n",
        "tokenizer_config['num_words'] = max_words\n",
        "with open('tokenizer_config.json', 'w') as config_file:\n",
        "    config_file.write(json.dumps(tokenizer_config))"
      ]
    }
  ],
  "metadata": {
    "colab": {
      "provenance": []
    },
    "kernelspec": {
      "display_name": "Python 3",
      "name": "python3"
    },
    "language_info": {
      "codemirror_mode": {
        "name": "ipython",
        "version": 3
      },
      "file_extension": ".py",
      "mimetype": "text/x-python",
      "name": "python",
      "nbconvert_exporter": "python",
      "pygments_lexer": "ipython3",
      "version": "3.11.2"
    }
  },
  "nbformat": 4,
  "nbformat_minor": 0
}
